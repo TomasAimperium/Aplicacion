{
 "cells": [
  {
   "cell_type": "code",
   "execution_count": 9,
   "id": "2c2d00d0-b996-4a5f-b580-c5d210bcbbaf",
   "metadata": {},
   "outputs": [
    {
     "data": {
      "text/plain": [
       "0.0"
      ]
     },
     "execution_count": 9,
     "metadata": {},
     "output_type": "execute_result"
    }
   ],
   "source": [
    "import pandas as pd\n",
    "import numpy as np\n",
    "\n",
    "x = np.array(pd.read_csv(\"data/data.csv\")).reshape(-1)\n",
    "\n",
    "\n",
    "sum(np.isnan(x))/sum(~np.isnan(x))\n"
   ]
  },
  {
   "cell_type": "code",
   "execution_count": 1,
   "id": "79cb379b-834f-4fff-9e6e-239e138620ef",
   "metadata": {},
   "outputs": [],
   "source": [
    "import numpy as np\n",
    "import pandas as pd\n",
    "data = pd.read_csv('data/NCU_8.csv').iloc[:400,0:2].values"
   ]
  },
  {
   "cell_type": "code",
   "execution_count": 2,
   "id": "83bcd274-41da-47f9-9531-8e4741f35b18",
   "metadata": {},
   "outputs": [],
   "source": [
    "from test.pipeline import  *\n",
    "DATA = [data[:,1],data[:,0]]\n",
    "inp = pipeline(DATA,111)"
   ]
  },
  {
   "cell_type": "code",
   "execution_count": 3,
   "id": "c46e3f6b-5713-4d31-aaac-8b71441b9a3a",
   "metadata": {},
   "outputs": [
    {
     "name": "stderr",
     "output_type": "stream",
     "text": [
      "23559-WARNING-AI_warning_3: datos a validar no encontrados\n"
     ]
    }
   ],
   "source": [
    "out = predictions(inp,3.6,5,real = None)"
   ]
  },
  {
   "cell_type": "code",
   "execution_count": null,
   "id": "1fc9377a-b704-43df-a7d7-d2baf6b763c9",
   "metadata": {},
   "outputs": [],
   "source": []
  },
  {
   "cell_type": "code",
   "execution_count": 38,
   "id": "ed70834d-9350-4edf-816f-8fc9929c8089",
   "metadata": {},
   "outputs": [],
   "source": [
    "val = out['output']['validation']"
   ]
  },
  {
   "cell_type": "code",
   "execution_count": 43,
   "id": "da984a3e-1496-4699-a9d2-f7addcd457e7",
   "metadata": {},
   "outputs": [
    {
     "data": {
      "text/plain": [
       "0.0"
      ]
     },
     "execution_count": 43,
     "metadata": {},
     "output_type": "execute_result"
    }
   ],
   "source": [
    "float(val['maximum'])"
   ]
  },
  {
   "cell_type": "code",
   "execution_count": 52,
   "id": "8d6d3b10-d3b7-4efe-9525-2919ece0cea7",
   "metadata": {},
   "outputs": [],
   "source": [
    "val = []\n",
    "\n",
    "\n",
    "for i in range(20):\n",
    "    data = D.iloc[i:400+i,0:2].values\n",
    "    DATA = [data[:,1],data[:,0]]\n",
    "    real = np.array(pd.Series(DATA[0][200:200+20]).fillna(0))*3.6\n",
    "    REAL = [real,np.array([np.max(real)]),np.array([np.mean(real),np.std(real)])]  \n",
    "    inp = pipeline(DATA,111)\n",
    "    out = predictions(inp,3.6,5,real = REAL)\n",
    "    val.append(float(out['output']['validation']['maximum']))\n",
    "\n",
    "\n",
    "\n"
   ]
  },
  {
   "cell_type": "code",
   "execution_count": 1,
   "id": "bea0cee1-c0a9-4b59-8721-279002724060",
   "metadata": {},
   "outputs": [],
   "source": [
    "import pandas as pd\n",
    "import numpy as np\n",
    "from scipy.signal import savgol_filter\n",
    "from pipeline import *\n",
    "import matplotlib.pyplot as plt\n",
    "import json\n",
    "D = pd.read_csv('data/NCU_8.csv')\n",
    "i = 0\n",
    "    # print(out['output'])"
   ]
  },
  {
   "cell_type": "code",
   "execution_count": 23,
   "id": "e27793d8-54a8-4415-89c9-ffc23a857605",
   "metadata": {},
   "outputs": [
    {
     "ename": "AttributeError",
     "evalue": "'numpy.ndarray' object has no attribute 'iloc'",
     "output_type": "error",
     "traceback": [
      "\u001b[0;31m---------------------------------------------------------------------------\u001b[0m",
      "\u001b[0;31mAttributeError\u001b[0m                            Traceback (most recent call last)",
      "\u001b[0;32m/tmp/ipykernel_158443/2777358133.py\u001b[0m in \u001b[0;36m<module>\u001b[0;34m\u001b[0m\n\u001b[0;32m----> 1\u001b[0;31m \u001b[0mdata\u001b[0m \u001b[0;34m=\u001b[0m \u001b[0mD\u001b[0m\u001b[0;34m.\u001b[0m\u001b[0miloc\u001b[0m\u001b[0;34m[\u001b[0m\u001b[0mi\u001b[0m\u001b[0;34m:\u001b[0m\u001b[0;36m400\u001b[0m\u001b[0;34m+\u001b[0m\u001b[0mi\u001b[0m\u001b[0;34m,\u001b[0m\u001b[0;36m0\u001b[0m\u001b[0;34m:\u001b[0m\u001b[0;36m2\u001b[0m\u001b[0;34m]\u001b[0m\u001b[0;34m.\u001b[0m\u001b[0mvalues\u001b[0m\u001b[0;34m\u001b[0m\u001b[0;34m\u001b[0m\u001b[0m\n\u001b[0m\u001b[1;32m      2\u001b[0m \u001b[0mDATA\u001b[0m \u001b[0;34m=\u001b[0m \u001b[0;34m[\u001b[0m\u001b[0mdata\u001b[0m\u001b[0;34m[\u001b[0m\u001b[0;34m:\u001b[0m\u001b[0;34m,\u001b[0m\u001b[0;36m1\u001b[0m\u001b[0;34m]\u001b[0m\u001b[0;34m,\u001b[0m\u001b[0mdata\u001b[0m\u001b[0;34m[\u001b[0m\u001b[0;34m:\u001b[0m\u001b[0;34m,\u001b[0m\u001b[0;36m0\u001b[0m\u001b[0;34m]\u001b[0m\u001b[0;34m]\u001b[0m\u001b[0;34m\u001b[0m\u001b[0;34m\u001b[0m\u001b[0m\n\u001b[1;32m      3\u001b[0m \u001b[0minp\u001b[0m \u001b[0;34m=\u001b[0m \u001b[0mpipeline\u001b[0m\u001b[0;34m(\u001b[0m\u001b[0mDATA\u001b[0m\u001b[0;34m,\u001b[0m\u001b[0msav\u001b[0m \u001b[0;34m=\u001b[0m \u001b[0;36m69\u001b[0m\u001b[0;34m,\u001b[0m\u001b[0mN\u001b[0m \u001b[0;34m=\u001b[0m \u001b[0;36m200\u001b[0m\u001b[0;34m,\u001b[0m\u001b[0mn\u001b[0m\u001b[0;34m=\u001b[0m \u001b[0;36m40\u001b[0m\u001b[0;34m)\u001b[0m\u001b[0;34m\u001b[0m\u001b[0;34m\u001b[0m\u001b[0m\n\u001b[1;32m      4\u001b[0m \u001b[0mout\u001b[0m \u001b[0;34m=\u001b[0m \u001b[0mpredictions\u001b[0m\u001b[0;34m(\u001b[0m\u001b[0minp\u001b[0m\u001b[0;34m,\u001b[0m\u001b[0mconv\u001b[0m\u001b[0;34m=\u001b[0m\u001b[0;36m3.6\u001b[0m\u001b[0;34m,\u001b[0m\u001b[0malarm\u001b[0m \u001b[0;34m=\u001b[0m \u001b[0;36m5\u001b[0m\u001b[0;34m,\u001b[0m \u001b[0msam\u001b[0m\u001b[0;34m=\u001b[0m\u001b[0;36m15\u001b[0m\u001b[0;34m,\u001b[0m\u001b[0mN\u001b[0m \u001b[0;34m=\u001b[0m \u001b[0;36m200\u001b[0m\u001b[0;34m,\u001b[0m\u001b[0mn\u001b[0m\u001b[0;34m=\u001b[0m \u001b[0;36m40\u001b[0m\u001b[0;34m,\u001b[0m\u001b[0mret\u001b[0m \u001b[0;34m=\u001b[0m \u001b[0;36m1\u001b[0m\u001b[0;34m)\u001b[0m\u001b[0;34m\u001b[0m\u001b[0;34m\u001b[0m\u001b[0m\n\u001b[1;32m      5\u001b[0m \u001b[0;31m# out\u001b[0m\u001b[0;34m\u001b[0m\u001b[0;34m\u001b[0m\u001b[0m\n",
      "\u001b[0;31mAttributeError\u001b[0m: 'numpy.ndarray' object has no attribute 'iloc'"
     ]
    }
   ],
   "source": [
    "data = D.iloc[i:400+i,0:2].values\n",
    "DATA = [data[:,1],data[:,0]]\n",
    "inp = pipeline(DATA,sav = 69,N = 200,n= 40)\n",
    "out = predictions(inp,conv=3.6,alarm = 5, sam=15,N = 200,n= 40,ret = 1) \n",
    "# out"
   ]
  },
  {
   "cell_type": "code",
   "execution_count": 9,
   "id": "94ec77fc-fb3f-44b6-921d-8c907695b2f7",
   "metadata": {},
   "outputs": [
    {
     "data": {
      "text/plain": [
       "False"
      ]
     },
     "execution_count": 9,
     "metadata": {},
     "output_type": "execute_result"
    }
   ],
   "source": [
    "type(inp[1]) == float"
   ]
  },
  {
   "cell_type": "code",
   "execution_count": 12,
   "id": "6cd10e8c-7924-4160-b833-3e531966cb4b",
   "metadata": {},
   "outputs": [],
   "source": [
    "for i in range(10):\n",
    "    data = D.iloc[i:400+i,0:2].values\n",
    "    DATA = [data[:,1],data[:,0]]\n",
    "    inp = pipeline(DATA,sav = 49,N = 200,n= 40)\n",
    "    out = predictions(inp,conv=3.6,alarm = 5, sam=15,N = 200,n= 40,ret = 1)   \n",
    "    json_string = json.dumps(out)\n",
    "    with open('json_data'+str(i)+'.json', 'w') as outfile:\n",
    "        outfile.write(json_string)\n",
    "    "
   ]
  },
  {
   "cell_type": "code",
   "execution_count": 6,
   "id": "e981e60a-ca5f-43a7-ba4f-7bc3ddce403c",
   "metadata": {},
   "outputs": [],
   "source": [
    "# real = savgol_filter(np.array(pd.Series(DATA[0]).fillna(0))*3.6,51,1)[-200+40:-200]\n",
    "# REAL = [real[0:20],np.array([np.max(real)]),np.array([np.mean(real),np.mean(real) + np.std(real)])]  "
   ]
  },
  {
   "cell_type": "code",
   "execution_count": null,
   "id": "a555c3a0-e402-494b-a363-b5a4f34b91de",
   "metadata": {},
   "outputs": [],
   "source": [
    "\n",
    "\n",
    "\n",
    "\n",
    "\n",
    "\n",
    "imputacion de valores asentes\n",
    "data_int = pd.Series(abs(array(data[0].copy()))).interpolate(method='linear', \n",
    "                                       limit_direction ='backward', \n",
    "                                       limit = 1,inplace = False)\n",
    "data_int = data_int.fillna(data_int.median(skipna = True),inplace = False)\n",
    "\n",
    "\n",
    "conteo de valores incompletos\n",
    "\n",
    "\n",
    "comp = len(pd.Series(data[0]).dropna())/len(pd.Series(data[0]))"
   ]
  },
  {
   "cell_type": "code",
   "execution_count": null,
   "id": "7f388c02-f493-416f-9b9c-f15090eed9e9",
   "metadata": {},
   "outputs": [],
   "source": []
  },
  {
   "cell_type": "code",
   "execution_count": null,
   "id": "1f4bb1b6-6ed5-440c-8b6e-4eb51b7a4c47",
   "metadata": {},
   "outputs": [],
   "source": []
  },
  {
   "cell_type": "code",
   "execution_count": null,
   "id": "7583deed-4616-40e5-b77d-b0a1e8c37fb6",
   "metadata": {},
   "outputs": [],
   "source": []
  },
  {
   "cell_type": "code",
   "execution_count": null,
   "id": "7e247b67-c43d-40d7-b0af-5cccffdec438",
   "metadata": {},
   "outputs": [],
   "source": []
  },
  {
   "cell_type": "code",
   "execution_count": null,
   "id": "726864ab-73a0-4ea6-8eb3-9f78236b09d8",
   "metadata": {},
   "outputs": [],
   "source": []
  },
  {
   "cell_type": "code",
   "execution_count": null,
   "id": "6f822a56-e1a6-4d24-8084-820ac743fa05",
   "metadata": {},
   "outputs": [],
   "source": []
  },
  {
   "cell_type": "code",
   "execution_count": 20,
   "id": "7fecfbbf-53b2-4b12-88ea-223622fda696",
   "metadata": {},
   "outputs": [],
   "source": [
    "import config as c\n",
    "import pandas as pd\n",
    "from datetime import datetime\n",
    "from IPython.display import clear_output\n",
    "now = datetime.now()\n",
    "current_time = now.strftime(\"%y-%m-%d %H:%M:%S\")\n",
    "n = c.n\n",
    "N = c.N\n",
    "D = pd.read_csv(\"data/NCU_8.csv\").values\n",
    "d = list(D[0:100000,0])\n",
    "y = list(D[0:100000,1])"
   ]
  },
  {
   "cell_type": "code",
   "execution_count": 33,
   "id": "077b1f51-9fdb-4653-a1fb-9e04eb7a624b",
   "metadata": {},
   "outputs": [
    {
     "name": "stdout",
     "output_type": "stream",
     "text": [
      "1000 /1000\n"
     ]
    }
   ],
   "source": [
    "\n",
    "for i in range(1000):\n",
    "    print(i+1,\"/1000\")\n",
    "    data = {\n",
    "    \"header\":{\n",
    "        \"empresa\":\"empresa\",\n",
    "        \"id\":\"asdasdasdasd\",\n",
    "        \"planta\":\"1234\"   \n",
    "    },\n",
    "    \n",
    "    \"update_time\": str(now),\n",
    "    \n",
    "    \"data\":{\n",
    "        \"datetime\": str(d[i:i+400]),\n",
    "        \"values\": str(y[i:i+400])\n",
    "        }\n",
    "}\n",
    "    with open('data/jsons/inpt_data_'+str(i)+'.json', 'w') as outfile:\n",
    "        json.dump(data, outfile)\n",
    "    clear_output(wait=True)\n",
    "\n"
   ]
  },
  {
   "cell_type": "code",
   "execution_count": 32,
   "id": "394aa717-df82-464e-8d71-74a521a6398d",
   "metadata": {},
   "outputs": [
    {
     "name": "stdout",
     "output_type": "stream",
     "text": [
      "CPU times: user 5.12 s, sys: 35.4 ms, total: 5.16 s\n",
      "Wall time: 5.04 s\n"
     ]
    }
   ],
   "source": [
    "%%time\n",
    "from pipeline import *\n",
    "inp = pipeline(data = data ,sav = 111,N = 200,n= 40)\n",
    "out = predictions(inp,conv=3.6,alarm = 5, sam=15,N = 200,n= 40,ret = 1)\n",
    "# print(json.dumps(out,indent = 4))"
   ]
  }
 ],
 "metadata": {
  "kernelspec": {
   "display_name": "Python 3 (ipykernel)",
   "language": "python",
   "name": "python3"
  },
  "language_info": {
   "codemirror_mode": {
    "name": "ipython",
    "version": 3
   },
   "file_extension": ".py",
   "mimetype": "text/x-python",
   "name": "python",
   "nbconvert_exporter": "python",
   "pygments_lexer": "ipython3",
   "version": "3.9.7"
  }
 },
 "nbformat": 4,
 "nbformat_minor": 5
}
